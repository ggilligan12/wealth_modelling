{
 "cells": [
  {
   "cell_type": "code",
   "execution_count": 37,
   "metadata": {},
   "outputs": [],
   "source": [
    "# All unaccounted for variables in this file should be drawn from here (will put this in gitignore)\n",
    "from wealth_modelling_variables import *\n",
    "\n",
    "# Classes to help track overall wealth\n",
    "from bank_account import *\n",
    "from mortgage import *\n",
    "from student_loan import *\n",
    "\n",
    "# Functions to help model cashflow\n",
    "from cost_modelling import *\n",
    "from salary_modelling import *\n",
    "from tax_modelling import *\n",
    "\n",
    "# Oh and of course\n",
    "import numpy as np\n",
    "import matplotlib.pyplot as plt"
   ]
  },
  {
   "cell_type": "code",
   "execution_count": 38,
   "metadata": {},
   "outputs": [],
   "source": [
    "# Initialising our 'account' and 'loan' objects\n",
    "CurrentAccount = BankAccount(curent_account_balance, current_account_interest)\n",
    "# In this version we go and get ourselves a Mortgage straight away!\n",
    "# Future work should address the question of how this model looks if we\n",
    "# get one at a later stage.\n",
    "Mortgage = Mortgage(CurrentAccount, mortgage_deposit, initial_mortgage_value, repayment_term, monthly_payments, fixed_rate, fixed_rate_period)\n",
    "StudentLoan = StudentLoan(CurrentAccount, initial_student_loan_value, student_loan_bands, student_loan_rates)\n",
    "Pension = BankAccount(current_pension_value, pension_interest_rate)"
   ]
  },
  {
   "cell_type": "code",
   "execution_count": 30,
   "metadata": {},
   "outputs": [],
   "source": [
    "wealth_increments = []\n",
    "\n",
    "costs = model_costs(years, monthly_rent)\n",
    "\n",
    "salaries = model_salary(years, starting_salary, annual_salary_increase, bonus_percentage) \n",
    "for i,salary in enumerate(salaries):\n",
    "\n",
    "    # First, consider the effect on our student loan\n",
    "    student_loan_repayment = StudentLoan.make_minimum_repayment(salary)\n",
    "    # A curious instance of loan whose interest rate is contingent on my salary...\n",
    "    StudentLoan.compound_interest(salary)\n",
    "\n",
    "    # Next, address our pension contribution\n",
    "    Pension.pay_in(salary*(pension_contribution + employer_pension_contribution))\n",
    "    Pension.compound_interest()\n",
    "    salary *= 1 - pension_contribution\n",
    "\n",
    "    # Now apply income tax and NI\n",
    "    tax = get_tax(salary, ni_bands, ni_rates, it_bands, it_rates)\n",
    "\n",
    "    # Finally, take out our mortgage payment\n",
    "    mortgage_repayment = Mortgage.make_yearly_repayment()\n",
    "    Mortgage.compound_interest()\n",
    "\n",
    "    # Oh and also get income from tenants in property\n",
    "    tenant_income = tenant_monthly_rent * 12 * tenant_no\n",
    "\n",
    "    # Now throw it all together and pay it into our Current Account\n",
    "    income = salary - tax - costs[i] - student_loan_repayment - mortgage_repayment + tenant_income\n",
    "    CurrentAccount.pay_in(income)\n",
    "    CurrentAccount.compound_interest()\n",
    "\n",
    "    wealth_increments += [CurrentAccount.value + Pension.value + Mortgage.AssetValue - Mortgage.loan_value - StudentLoan.loan_value]"
   ]
  },
  {
   "cell_type": "code",
   "execution_count": null,
   "metadata": {},
   "outputs": [],
   "source": [
    "plt.figure(figsize=(15,10))\n",
    "\n",
    "# Plot wealth trajectories.\n",
    "plt.plot(np.arange(0,years,1)+2022, wealth_increments, label='SL-NR; M-22')\n",
    "#plt.plot(np.arange(0,years,1)+2022,PhD_cumulative, label='PhD')\n",
    "#plt.plot(np.arange(0,years,1)+2022,year_delay_PhD_cumulative, label='PhD +1 year deferral')\n",
    "\n",
    "# Formatting the plot.\n",
    "plt.xlabel('Years from FY 2022/23',fontsize=20)\n",
    "plt.ylabel('Total Accumulated Wealth',fontsize=20)\n",
    "plt.tick_params(labelsize=15)\n",
    "l = plt.legend(loc=0,prop={'size': 15},title='Wealth Trajectories') \n",
    "plt.setp(l.get_title(),fontsize=15)\n",
    "plt.show()"
   ]
  }
 ],
 "metadata": {
  "kernelspec": {
   "display_name": "Python 3",
   "language": "python",
   "name": "python3"
  },
  "language_info": {
   "codemirror_mode": {
    "name": "ipython",
    "version": 3
   },
   "file_extension": ".py",
   "mimetype": "text/x-python",
   "name": "python",
   "nbconvert_exporter": "python",
   "pygments_lexer": "ipython3",
   "version": "3.7.4"
  }
 },
 "nbformat": 4,
 "nbformat_minor": 2
}
